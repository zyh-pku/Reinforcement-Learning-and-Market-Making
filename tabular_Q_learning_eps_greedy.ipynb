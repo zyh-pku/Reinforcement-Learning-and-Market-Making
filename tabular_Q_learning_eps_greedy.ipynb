{
  "nbformat": 4,
  "nbformat_minor": 0,
  "metadata": {
    "colab": {
      "provenance": [],
      "toc_visible": true
    },
    "kernelspec": {
      "name": "python3",
      "display_name": "Python 3"
    },
    "language_info": {
      "name": "python"
    }
  },
  "cells": [
    {
      "cell_type": "code",
      "source": [
        "import numpy as np\n",
        "\n",
        "import matplotlib.pyplot as plt"
      ],
      "metadata": {
        "id": "CDCzRVyn5UKt"
      },
      "execution_count": 1,
      "outputs": []
    },
    {
      "cell_type": "markdown",
      "source": [
        "# Parameter setup\n",
        "(same with true_Bellman_iteration.ipynb)"
      ],
      "metadata": {
        "id": "8V_YtDDta2_e"
      }
    },
    {
      "cell_type": "code",
      "source": [
        "#### basic dimensions and state space grid:\n",
        "\n",
        "N_P = 2 # price grid dimension - 1 (because we start from 0)\n",
        "\n",
        "N_Y = 1 # (inventory grid dimension - 1)/2 (because we allow both - and + and 0)\n",
        "\n",
        "dim_X = 2*N_P-1\n",
        "\n",
        "dim_Y = 2*N_Y+1\n",
        "\n",
        "prices = list(range(N_P+1)) # all integer list [0,1,2,...,N_P]\n",
        "prices = np.array(prices)\n",
        "\n",
        "dim_action_a = N_P+2\n",
        "dim_action_b = N_P+2\n",
        "# the additional state (the last 1) for quoted price is for doing nothing\n",
        "\n",
        "#### set (tick size, time grid, transition kernel)\n",
        "\n",
        "tick = 1/3 # the quoted prices are in the set: (0*tick, 1*tick, 2*tick, ..., N_P*tick)\n",
        "\n",
        "Delta = 0.1 # the actions are done in the grid: 0*Delta, 1*Delta, 2*Delta, ......\n",
        "\n",
        "k1 = 2 # 2/(tick*M), where M is an integer specifying the optimal spread, as multiple of (tick/2)\n",
        "\n",
        "p0 = 0.4\n",
        "\n",
        "A = np.exp(1)*(1/Delta)*p0\n",
        "\n",
        "def lambda_e(D): # if the distance between the quoted price and the mid-price is D>0, then the probability that this order is executed is lambda_e(D)*Delta.\n",
        "    return np.exp(-k1*D)*A\n",
        "\n",
        "#### discount factor for the infinite horizon value function\n",
        "\n",
        "GAMMA = 0.95\n",
        "GAMMA_Delta = np.exp(-GAMMA*Delta)\n",
        "\n",
        "print(GAMMA_Delta)\n",
        "\n",
        "#### transition prob matrix of state variable X_i , where X_i is the mid-price\n",
        "\n",
        "Q_X_i_i1 = np.zeros((dim_X-1,dim_X))\n",
        "Q_X_i1_i = np.zeros((dim_X-1,dim_X))\n",
        "\n",
        "lambda_i_i1 = (1/Delta)*np.array([0.5,1/3]) #3.5*np.ones(dim_X-1)\n",
        "lambda_i1_i = (1/Delta)*np.array([1/3,0.5]) #3.5*np.ones(dim_X-1)\n",
        "\n",
        "for i in range(dim_X-1):\n",
        "  Q_X_i1_i[i,i] = lambda_i1_i[i]\n",
        "  Q_X_i1_i[i,i+1] = -lambda_i1_i[i]\n",
        "  Q_X_i_i1[i,i] = -lambda_i_i1[i]\n",
        "  Q_X_i_i1[i,i+1] = lambda_i_i1[i]\n",
        "\n",
        "Q_X = np.zeros((dim_X,dim_X))\n",
        "Q_X[0:(dim_X-1), 0:dim_X] = Q_X[0:(dim_X-1), 0:dim_X] + Q_X_i_i1\n",
        "Q_X[1:dim_X, 0:dim_X] = Q_X[1:dim_X, 0:dim_X] + Q_X_i1_i\n",
        "\n",
        "P_X = np.identity(dim_X) + Delta*Q_X # X_i is a finite-state Markov jump process, and the transition probability matrix of X_i is P_X.\n",
        "print(P_X)"
      ],
      "metadata": {
        "colab": {
          "base_uri": "https://localhost:8080/"
        },
        "id": "g9IFcG4T7lse",
        "outputId": "aea2387d-4f4e-4889-cefb-f5457b1c2e2d"
      },
      "execution_count": 2,
      "outputs": [
        {
          "output_type": "stream",
          "name": "stdout",
          "text": [
            "0.9093729344682314\n",
            "[[0.5        0.5        0.        ]\n",
            " [0.33333333 0.33333333 0.33333333]\n",
            " [0.         0.5        0.5       ]]\n"
          ]
        }
      ]
    },
    {
      "cell_type": "markdown",
      "metadata": {
        "id": "kflCRSdFgzKm"
      },
      "source": [
        "## Parameters of the Q-learning algorithms"
      ]
    },
    {
      "cell_type": "code",
      "source": [
        "%matplotlib inline\n",
        "\n",
        "Q_table = np.zeros( (dim_X, dim_Y, dim_action_a, dim_action_b) )\n",
        "\n",
        "N_RL_iter = 10000 # total steps of Q-learning iteration\n",
        "\n",
        "Q_table_track = np.zeros( (dim_X, dim_Y, dim_action_a, dim_action_b, N_RL_iter) )\n",
        "\n",
        "N_learning_steps = 3000 # total steps of Q-learning iteration for each (state,action) pair\n",
        "\n",
        "# count the numbers of visiting\n",
        "state_counter_matrix = np.zeros( (dim_X, dim_Y) )\n",
        "state_action_counter_matrix = np.zeros( (dim_X, dim_Y, dim_action_a, dim_action_b) )\n",
        "\n",
        "###### learning rate\n",
        "eps = 0.8\n",
        "eps0 = 0.95\n",
        "epoch = 2\n",
        "learning_rate = [eps*((eps0)**(i//epoch)) for i in range(N_learning_steps)] #step_size = learning_rate\n",
        "\n",
        "learning_rate_matrix = np.zeros( (dim_X, dim_Y, dim_action_a, dim_action_b, N_learning_steps) )\n",
        "######## should also let the learning rate depends on action, because Q function is a function of (s,a)\n",
        "\n",
        "for idx_x in range(dim_X):\n",
        "  for idx_y in range(dim_Y):\n",
        "    for p_a in range(dim_action_a):\n",
        "      for p_b in range(dim_action_b):\n",
        "        learning_rate_matrix[ idx_x, idx_y, p_a, p_b, : ] = np.array(learning_rate)\n",
        "plt.figure(1, figsize=(16, 5))\n",
        "plt.plot(learning_rate)\n",
        "plt.xlabel('step')\n",
        "plt.ylabel('Learning Rate')\n",
        "print(learning_rate[-5])\n",
        "\n",
        "####### exploration probability\n",
        "eps = 1.0\n",
        "eps0 = 0.8\n",
        "epoch = 100\n",
        "EPSILON_list = [eps*((eps0)**(i//epoch)) for i in range(N_learning_steps)] # Probability for exploration\n",
        "#EPSILON_list = [ 0 for i in range(N_learning_steps)] # Probability for exploration\n",
        "explore_prob_matrix = np.zeros( (dim_X, dim_Y, N_learning_steps) )\n",
        "######## should also let the exploration probability depend on state s\n",
        "for idx_x in range(dim_X):\n",
        "  for idx_y in range(dim_Y):\n",
        "    explore_prob_matrix[ idx_x, idx_y, : ] = np.array(EPSILON_list)\n",
        "plt.figure(1, figsize=(16, 5))\n",
        "plt.plot(EPSILON_list)\n",
        "plt.xlabel('step')\n",
        "plt.ylabel('Probability for Exploration')\n",
        "print(EPSILON_list[-5])\n"
      ],
      "metadata": {
        "colab": {
          "base_uri": "https://localhost:8080/",
          "height": 406
        },
        "id": "pPM0h4LArj-d",
        "outputId": "4c3952f8-f44e-42cf-cf5c-6d84cd011e13"
      },
      "execution_count": 3,
      "outputs": [
        {
          "output_type": "stream",
          "name": "stdout",
          "text": [
            "3.5919237134836712e-34\n",
            "0.0015474250491067279\n"
          ]
        },
        {
          "output_type": "display_data",
          "data": {
            "text/plain": [
              "<Figure size 1600x500 with 1 Axes>"
            ],
            "image/png": "[encoded data removed]"
          },
          "metadata": {}
        }
      ]
    },
    {
      "cell_type": "markdown",
      "source": [
        "# Tabular Q-learning with epsilon-greedy"
      ],
      "metadata": {
        "id": "aHIXD-FjasLA"
      }
    },
    {
      "cell_type": "code",
      "source": [
        "np.random.seed(999)"
      ],
      "metadata": {
        "id": "YA_ICHhUDIU4"
      },
      "execution_count": 4,
      "outputs": []
    },
    {
      "cell_type": "code",
      "source": [
        "# the data of state variables at time point i=0,1,...,N_RL_iter\n",
        "X_data = np.zeros(N_RL_iter+1) # all are integers, i.e., 0,1,2,...,dim_X-1\n",
        "Y_data = np.zeros(N_RL_iter+1) # all are integers, i.e., 0,1,2,...,dim_Y-1\n",
        "\n",
        "Reward_i_data = np.zeros(N_RL_iter) # the reward from i to i+1 for i=0,1,...,N_RL_iter-1\n",
        "dna_data = np.zeros(N_RL_iter) # the executed ask order size from i to i+1 for i=0,1,...,N_RL_iter-1\n",
        "dnb_data = np.zeros(N_RL_iter) # the executed buy order size from i to i+1 for i=0,1,...,N_RL_iter-1\n",
        "\n",
        "# state initialization\n",
        "\n",
        "X_data[0] = dim_X//2\n",
        "Y_data[0] = dim_Y//2\n",
        "\n",
        "for i in range(N_RL_iter):\n",
        "  # the transition from i to i+1\n",
        "  Q_table_track[:,:,:,:,i] = Q_table[:,:,:,:]\n",
        "  # main part of the Q-learning algorithm\n",
        "\n",
        "  # Part 1: choose the action to do given the state at i-th time point\n",
        "  p_a = 0 # quoted ask price\n",
        "  p_b = 0 # quoted bid price\n",
        "  #########\n",
        "  # Make a list of the actions available from the current state\n",
        "  idx_x = int(X_data[i]) # all are integers, i.e., 0,1,2,...,dim_X-1\n",
        "  idx_y = int(Y_data[i]) # all are integers, i.e., 0,1,2,...,dim_Y-1\n",
        "\n",
        "\n",
        "  count_xy = int(state_counter_matrix[idx_x,idx_y])\n",
        "  state_counter_matrix[idx_x,idx_y] = count_xy+1\n",
        "\n",
        "  EPSILON = explore_prob_matrix[ idx_x, idx_y, count_xy ]  #exploration probability for this state\n",
        "\n",
        "  x = idx_x + 1 # midprice=x*tick_size/2 and x is in (1,2,...,dim_X)\n",
        "  y = idx_y - N_Y # y = the true signed integer value of inventory\n",
        "\n",
        "  if y == -N_Y: # then sell order is not allowed\n",
        "    action_a_list = [dim_action_a-1] # do nothing for ask order\n",
        "    action_b_list = prices[prices<x/2] # the action is exactly equal to the index\n",
        "    # x/2 is because the middle price is on grid: 0, 1/2, 1, 3/2, 2, ...,\n",
        "    # but the quoted price is on grid: 0,1,2,...\n",
        "    p_a = dim_action_a-1\n",
        "\n",
        "    if np.random.binomial(1, EPSILON) == 1:\n",
        "      p_b = np.random.choice(action_b_list)\n",
        "    else:\n",
        "      Q_values_xy = Q_table[idx_x, idx_y, :, :][np.ix_( list(action_a_list), list(action_b_list) )]\n",
        "      idx_max_a, idx_max_b = np.where(Q_values_xy == Q_values_xy.max())\n",
        "      p_b = action_b_list[ idx_max_b[0] ]\n",
        "      # Wrong(do not do this!!! the index list is different!!): indeed, we can directly use idx_max_b[0], because the action is exactly equal to the index\n",
        "\n",
        "  elif y == N_Y: # then buy order is not allowed\n",
        "    action_a_list = prices[prices>x/2]\n",
        "    action_b_list = [dim_action_b-1] # do nothing for buy order\n",
        "    p_b = dim_action_b-1\n",
        "\n",
        "    if np.random.binomial(1, EPSILON) == 1:\n",
        "      p_a = np.random.choice(action_a_list)\n",
        "    else:\n",
        "      Q_values_xy = Q_table[idx_x, idx_y, :, :][np.ix_( list(action_a_list), list(action_b_list) )]\n",
        "      idx_max_a, idx_max_b = np.where(Q_values_xy == Q_values_xy.max())\n",
        "      p_a = action_a_list[ idx_max_a[0] ]\n",
        "      # Wrong(do not do this!!! the index list is different!!): indeed, we can directly use idx_max_b[0], because the action is exactly equal to the index\n",
        "\n",
        "\n",
        "  else: # then both sell and buy orders are allowed\n",
        "    action_a_list = prices[prices>x/2] # the action is exactly equal to the index\n",
        "    action_b_list = prices[prices<x/2] # the action is exactly equal to the index\n",
        "    if np.random.binomial(1, EPSILON) == 1:\n",
        "      p_a = np.random.choice(action_a_list)\n",
        "      p_b = np.random.choice(action_b_list)\n",
        "    else:\n",
        "      Q_values_xy = Q_table[idx_x, idx_y, :, :][np.ix_( list(action_a_list), list(action_b_list) )]\n",
        "      idx_max_a, idx_max_b = np.where(Q_values_xy == Q_values_xy.max())\n",
        "      p_a = action_a_list[ idx_max_a[0] ] # Wrong(do not do this!!! the index list is different!!): indeed, we can directly use idx_max_b[0], because the action is exactly equal to the index\n",
        "      p_b = action_b_list[ idx_max_b[0] ]\n",
        "\n",
        "  # the above will output p_a p_b, this action is together with the state at time i\n",
        "\n",
        "\n",
        "\n",
        "  # then we update our counter for (state, action) pair\n",
        "\n",
        "  count_s_a = int(state_action_counter_matrix[idx_x, idx_y, p_a, p_b])\n",
        "  state_action_counter_matrix[idx_x, idx_y, p_a, p_b] = count_s_a+1\n",
        "\n",
        "\n",
        "  ############ Part 2: one-step transition of state variables given the action values\n",
        "  # from time index i to i+1\n",
        "  # x price state variable update\n",
        "  if x == 1:\n",
        "    x_i1 = x + np.dot( np.random.multinomial(1, [ P_X[idx_x,idx_x],P_X[idx_x,idx_x+1] ]),\n",
        "                      np.array([0,1]) )\n",
        "  elif x == dim_X:\n",
        "    x_i1 = x + np.dot( np.random.multinomial(1, [ P_X[idx_x,idx_x-1],P_X[idx_x,idx_x] ]),\n",
        "                      np.array([-1,0]) )\n",
        "  else:\n",
        "    x_i1 = x + np.dot( np.random.multinomial(1, [ P_X[idx_x,idx_x-1],P_X[idx_x,idx_x],P_X[idx_x,idx_x+1] ]),\n",
        "                      np.array([-1,0,1]) )\n",
        "\n",
        "  # y inventory variable update: Bernouli RV to simulate if the ask or buy order is executed or not:\n",
        "  p_ask_fill = lambda_e( -x*tick/2+p_a*tick )*Delta\n",
        "  p_buy_fill = lambda_e( x*tick/2-p_b*tick )*Delta\n",
        "\n",
        "  dna = 1 if np.random.uniform() <= p_ask_fill else 0\n",
        "  dnb = 1 if np.random.uniform() <= p_buy_fill else 0\n",
        "\n",
        "  if y == -N_Y:\n",
        "    dna = 0\n",
        "  if y == N_Y:\n",
        "    dnb = 0\n",
        "\n",
        "  dna_data[i] = dna\n",
        "  dnb_data[i] = dnb\n",
        "\n",
        "  y_i1 = y - dna + dnb\n",
        "  # translate back from x,y values to x,y index\n",
        "  idx_x_i1 = int(x_i1 - 1)\n",
        "  idx_y_i1 = int(y_i1 + N_Y)\n",
        "  # Part 3: get the reward at i-th time point and update Q-table by Q learning algorithm\n",
        "\n",
        "  if y_i1 == -N_Y: # then sell order is not allowed\n",
        "    action_a_list = [dim_action_a-1] # do nothing for ask order\n",
        "    action_b_list = prices[prices<x_i1/2] # the action is exactly equal to the index\n",
        "    Q_values_xy = Q_table[idx_x_i1, idx_y_i1, :, :][np.ix_( action_a_list, action_b_list )]\n",
        "\n",
        "  elif y_i1 == N_Y: # then buy order is not allowed\n",
        "    action_a_list = prices[prices>x_i1/2]\n",
        "    action_b_list = [dim_action_b-1] # do nothing for buy order\n",
        "    Q_values_xy = Q_table[idx_x_i1, idx_y_i1, :, :][np.ix_( action_a_list, action_b_list )]\n",
        "\n",
        "  else: # then both sell and buy orders are allowed\n",
        "    action_a_list = prices[prices>x_i1/2] # the action is exactly equal to the index\n",
        "    action_b_list = prices[prices<x_i1/2] # the action is exactly equal to the index\n",
        "    Q_values_xy = Q_table[idx_x_i1, idx_y_i1, :, :][np.ix_( action_a_list, action_b_list )]\n",
        "\n",
        "  Q_value_max_new_i1 = Q_values_xy.max()\n",
        "\n",
        "  # one-step reward function is here:\n",
        "  Reward_i_data[i] = ( -x*tick/2+p_a*tick )*dna + ( x*tick/2-p_b*tick )*dnb # - (y**2)*Delta + (x_i1-x)*y\n",
        "  Q_value_new = Reward_i_data[i] + GAMMA_Delta * Q_value_max_new_i1\n",
        "  Q_value_old = Q_table[idx_x, idx_y, p_a, p_b]\n",
        "\n",
        "  Q_table[idx_x, idx_y, p_a, p_b] = learning_rate_matrix[idx_x, idx_y, p_a, p_b, count_s_a] * (Q_value_new-Q_value_old) + Q_value_old\n",
        "\n",
        "  #incr_data[i] = Q_value_new - Q_value_old\n",
        "\n",
        "  # update the data of state variable\n",
        "\n",
        "  X_data[i+1] = idx_x_i1 # all are integers, i.e., 0,1,2,...,dim_X-1\n",
        "  Y_data[i+1] = idx_y_i1 # all are integers, i.e., 0,1,2,...,dim_Y-1\n"
      ],
      "metadata": {
        "id": "q8I2a1lpz5r8"
      },
      "execution_count": 5,
      "outputs": []
    },
    {
      "cell_type": "markdown",
      "source": [
        "## Convergence and visiting numbers check"
      ],
      "metadata": {
        "id": "dVJ1tzO0aXck"
      }
    },
    {
      "cell_type": "code",
      "source": [
        "state_counter_matrix"
      ],
      "metadata": {
        "colab": {
          "base_uri": "https://localhost:8080/"
        },
        "id": "OXNdwwyxuFPK",
        "outputId": "b4fa6105-8b85-4ba0-c4f5-f54e917313bf"
      },
      "execution_count": 6,
      "outputs": [
        {
          "output_type": "execute_result",
          "data": {
            "text/plain": [
              "array([[ 474., 1510.,  875.],\n",
              "       [ 978., 2247., 1041.],\n",
              "       [ 866., 1519.,  490.]])"
            ]
          },
          "metadata": {},
          "execution_count": 6
        }
      ]
    },
    {
      "cell_type": "code",
      "source": [
        "for idx_x in range(dim_X):\n",
        "  for idx_y in range(dim_Y):\n",
        "    x = int(idx_x + 1)\n",
        "    y = int(idx_y - N_Y)\n",
        "    if y == -N_Y: # then sell order is not allowed\n",
        "      action_a_list = [dim_action_a-1] # do nothing for ask order\n",
        "      action_b_list = prices[prices<x/2] # the action is exactly equal to the index\n",
        "      print( f'(x,y)={x},{y}' )\n",
        "      print(action_a_list)\n",
        "      print(action_b_list)\n",
        "      #print( state_action_counter_matrix[ idx_x, idx_y, action_a_list, action_b_list] )\n",
        "      print( state_action_counter_matrix[ idx_x, idx_y, :, :] )\n",
        "      print( Q_table[ idx_x, idx_y, :, :] )\n",
        "\n",
        "    elif y == N_Y: # then buy order is not allowed\n",
        "      action_a_list = prices[prices>x/2]\n",
        "      action_b_list = [dim_action_b-1] # do nothing for buy order\n",
        "      print( f'(x,y)={x},{y}' )\n",
        "      print(action_a_list)\n",
        "      print(action_b_list)\n",
        "      #print( state_action_counter_matrix[ idx_x, idx_y, action_a_list, action_b_list] )\n",
        "      print( state_action_counter_matrix[ idx_x, idx_y, :, :] )\n",
        "      print( Q_table[ idx_x, idx_y, :, :] )\n",
        "\n",
        "    else: # then both sell and buy orders are allowed\n",
        "      action_a_list = prices[prices>x/2] # the action is exactly equal to the index\n",
        "      action_b_list = prices[prices<x/2] # the action is exactly equal to the index\n",
        "      print( f'(x,y)={x},{y}' )\n",
        "      print(action_a_list)\n",
        "      print(action_b_list)\n",
        "      #print( state_action_counter_matrix[ idx_x, idx_y, action_a_list, action_b_list] )\n",
        "      print( state_action_counter_matrix[ idx_x, idx_y, :, :] )\n",
        "      print( Q_table[ idx_x, idx_y, :, :] )\n"
      ],
      "metadata": {
        "colab": {
          "base_uri": "https://localhost:8080/"
        },
        "id": "LLsxyX4bLcE3",
        "outputId": "3ba5dc9b-eb99-44ad-86f9-fe7c8a12d000"
      },
      "execution_count": 7,
      "outputs": [
        {
          "output_type": "stream",
          "name": "stdout",
          "text": [
            "(x,y)=1,-1\n",
            "[3]\n",
            "[0]\n",
            "[[  0.   0.   0.   0.]\n",
            " [  0.   0.   0.   0.]\n",
            " [  0.   0.   0.   0.]\n",
            " [474.   0.   0.   0.]]\n",
            "[[0.         0.         0.         0.        ]\n",
            " [0.         0.         0.         0.        ]\n",
            " [0.         0.         0.         0.        ]\n",
            " [2.85048112 0.         0.         0.        ]]\n",
            "(x,y)=1,0\n",
            "[1 2]\n",
            "[0]\n",
            "[[   0.    0.    0.    0.]\n",
            " [ 285.    0.    0.    0.]\n",
            " [1225.    0.    0.    0.]\n",
            " [   0.    0.    0.    0.]]\n",
            "[[0.         0.         0.         0.        ]\n",
            " [2.95942136 0.         0.         0.        ]\n",
            " [2.99008934 0.         0.         0.        ]\n",
            " [0.         0.         0.         0.        ]]\n",
            "(x,y)=1,1\n",
            "[1 2]\n",
            "[3]\n",
            "[[  0.   0.   0.   0.]\n",
            " [  0.   0.   0. 203.]\n",
            " [  0.   0.   0. 672.]\n",
            " [  0.   0.   0.   0.]]\n",
            "[[0.         0.         0.         0.        ]\n",
            " [0.         0.         0.         2.85103386]\n",
            " [0.         0.         0.         2.91400965]\n",
            " [0.         0.         0.         0.        ]]\n",
            "(x,y)=2,-1\n",
            "[3]\n",
            "[0]\n",
            "[[  0.   0.   0.   0.]\n",
            " [  0.   0.   0.   0.]\n",
            " [  0.   0.   0.   0.]\n",
            " [978.   0.   0.   0.]]\n",
            "[[0.         0.         0.         0.        ]\n",
            " [0.         0.         0.         0.        ]\n",
            " [0.         0.         0.         0.        ]\n",
            " [2.92566189 0.         0.         0.        ]]\n",
            "(x,y)=2,0\n",
            "[2]\n",
            "[0]\n",
            "[[   0.    0.    0.    0.]\n",
            " [   0.    0.    0.    0.]\n",
            " [2247.    0.    0.    0.]\n",
            " [   0.    0.    0.    0.]]\n",
            "[[0.         0.         0.         0.        ]\n",
            " [0.         0.         0.         0.        ]\n",
            " [3.04882356 0.         0.         0.        ]\n",
            " [0.         0.         0.         0.        ]]\n",
            "(x,y)=2,1\n",
            "[2]\n",
            "[3]\n",
            "[[   0.    0.    0.    0.]\n",
            " [   0.    0.    0.    0.]\n",
            " [   0.    0.    0. 1041.]\n",
            " [   0.    0.    0.    0.]]\n",
            "[[0.        0.        0.        0.       ]\n",
            " [0.        0.        0.        0.       ]\n",
            " [0.        0.        0.        2.8912157]\n",
            " [0.        0.        0.        0.       ]]\n",
            "(x,y)=3,-1\n",
            "[3]\n",
            "[0 1]\n",
            "[[  0.   0.   0.   0.]\n",
            " [  0.   0.   0.   0.]\n",
            " [  0.   0.   0.   0.]\n",
            " [634. 232.   0.   0.]]\n",
            "[[0.         0.         0.         0.        ]\n",
            " [0.         0.         0.         0.        ]\n",
            " [0.         0.         0.         0.        ]\n",
            " [2.94188193 2.89034199 0.         0.        ]]\n",
            "(x,y)=3,0\n",
            "[2]\n",
            "[0 1]\n",
            "[[   0.    0.    0.    0.]\n",
            " [   0.    0.    0.    0.]\n",
            " [1271.  248.    0.    0.]\n",
            " [   0.    0.    0.    0.]]\n",
            "[[0.         0.         0.         0.        ]\n",
            " [0.         0.         0.         0.        ]\n",
            " [3.10096747 3.0017986  0.         0.        ]\n",
            " [0.         0.         0.         0.        ]]\n",
            "(x,y)=3,1\n",
            "[2]\n",
            "[3]\n",
            "[[  0.   0.   0.   0.]\n",
            " [  0.   0.   0.   0.]\n",
            " [  0.   0.   0. 490.]\n",
            " [  0.   0.   0.   0.]]\n",
            "[[0.         0.         0.         0.        ]\n",
            " [0.         0.         0.         0.        ]\n",
            " [0.         0.         0.         2.88023351]\n",
            " [0.         0.         0.         0.        ]]\n"
          ]
        }
      ]
    },
    {
      "cell_type": "code",
      "source": [
        "#Q_table_track = np.zeros( (dim_X, dim_Y, dim_action_a, dim_action_b, N_RL_iter) )\n",
        "\n",
        "plt.figure(1, figsize=(20, 8))\n",
        "M=N_RL_iter\n",
        "plt.plot(Q_table_track[0,2,1,3,:M])\n",
        "plt.plot(Q_table_track[0,2,2,3,:M])\n",
        "plt.plot(Q_table_track[0,2,0,3,:M])\n",
        "plt.plot(Q_table_track[0,2,3,3,:M])\n",
        "plt.xlabel('step')\n",
        "plt.ylabel('Q(s,a)')"
      ],
      "metadata": {
        "colab": {
          "base_uri": "https://localhost:8080/",
          "height": 467
        },
        "id": "BOKDNEDmTh53",
        "outputId": "6dccd738-36d5-49dc-c6fe-9a5d9270e826"
      },
      "execution_count": 9,
      "outputs": [
        {
          "output_type": "execute_result",
          "data": {
            "text/plain": [
              "Text(0, 0.5, 'Q(s,a)')"
            ]
          },
          "metadata": {},
          "execution_count": 9
        },
        {
          "output_type": "display_data",
          "data": {
            "text/plain": [
              "<Figure size 2000x800 with 1 Axes>"
            ],
            "image/png": "[encoded data removed]"
          },
          "metadata": {}
        }
      ]
    },
    {
      "cell_type": "markdown",
      "source": [
        "# find the optimal policy using V_star"
      ],
      "metadata": {
        "id": "oD66WtzVbBrd"
      }
    },
    {
      "cell_type": "code",
      "source": [
        "p_a_RL = np.zeros( (dim_X, dim_Y) )\n",
        "p_b_RL = np.zeros( (dim_X, dim_Y) )\n",
        "V_RL = np.zeros( (dim_X, dim_Y) )"
      ],
      "metadata": {
        "id": "J4gzM84keeVn"
      },
      "execution_count": 10,
      "outputs": []
    },
    {
      "cell_type": "code",
      "source": [
        "for idx_x in range(dim_X):\n",
        "  for idx_y in range(dim_Y):\n",
        "    x = int(idx_x + 1)\n",
        "    y = int(idx_y - N_Y)\n",
        "    if y == -N_Y: # then sell order is not allowed\n",
        "      action_a_list = [dim_action_a-1] # do nothing for ask order\n",
        "      action_b_list = prices[prices<x/2] # the action is exactly equal to the index\n",
        "\n",
        "      Q_values_xy = Q_table[idx_x, idx_y, :, :][np.ix_( action_a_list, action_b_list )]\n",
        "      idx_max_a, idx_max_b = np.where(Q_values_xy == Q_values_xy.max())\n",
        "      p_a = dim_action_a-1\n",
        "      p_b = action_b_list[ idx_max_b[0] ]\n",
        "\n",
        "    elif y == N_Y: # then buy order is not allowed\n",
        "      action_a_list = prices[prices>x/2]\n",
        "      action_b_list = [dim_action_b-1] # do nothing for buy order\n",
        "\n",
        "      Q_values_xy = Q_table[idx_x, idx_y, :, :][np.ix_( action_a_list, action_b_list )]\n",
        "      idx_max_a, idx_max_b = np.where(Q_values_xy == Q_values_xy.max())\n",
        "      p_a = action_a_list[ idx_max_a[0] ]\n",
        "      p_b = dim_action_b-1\n",
        "      #print((x,y,p_a,p_b))\n",
        "    else: # then both sell and buy orders are allowed\n",
        "      action_a_list = prices[prices>x/2] # the action is exactly equal to the index\n",
        "      action_b_list = prices[prices<x/2] # the action is exactly equal to the index\n",
        "\n",
        "      Q_values_xy = Q_table[idx_x, idx_y, :, :][np.ix_( action_a_list, action_b_list )]\n",
        "      idx_max_a, idx_max_b = np.where(Q_values_xy == Q_values_xy.max())\n",
        "      p_a = action_a_list[ idx_max_a[0] ]\n",
        "      p_b = action_b_list[ idx_max_b[0] ]\n",
        "      #print((x,y,p_a,p_b))\n",
        "    V_RL[idx_x, idx_y] = Q_values_xy.max()\n",
        "    p_a_RL[idx_x, idx_y] = p_a\n",
        "    p_b_RL[idx_x, idx_y] = p_b"
      ],
      "metadata": {
        "id": "0tddPZcXL9RO"
      },
      "execution_count": 11,
      "outputs": []
    },
    {
      "cell_type": "markdown",
      "source": [
        "the policy below is correct: column 0 is Y=0"
      ],
      "metadata": {
        "id": "1Rh_k-9Wd60K"
      }
    },
    {
      "cell_type": "code",
      "source": [
        "p_a_RL"
      ],
      "metadata": {
        "colab": {
          "base_uri": "https://localhost:8080/"
        },
        "id": "-5lQ_NSWVP04",
        "outputId": "220e0fff-74af-4734-e37f-41b60926ba7a"
      },
      "execution_count": 12,
      "outputs": [
        {
          "output_type": "execute_result",
          "data": {
            "text/plain": [
              "array([[3., 2., 2.],\n",
              "       [3., 2., 2.],\n",
              "       [3., 2., 2.]])"
            ]
          },
          "metadata": {},
          "execution_count": 12
        }
      ]
    },
    {
      "cell_type": "code",
      "source": [
        "p_b_RL"
      ],
      "metadata": {
        "colab": {
          "base_uri": "https://localhost:8080/"
        },
        "id": "VYLcGfwHfXSg",
        "outputId": "1c00bed8-fc40-437c-c96d-0710f7444a81"
      },
      "execution_count": 13,
      "outputs": [
        {
          "output_type": "execute_result",
          "data": {
            "text/plain": [
              "array([[0., 0., 3.],\n",
              "       [0., 0., 3.],\n",
              "       [0., 0., 3.]])"
            ]
          },
          "metadata": {},
          "execution_count": 13
        }
      ]
    },
    {
      "cell_type": "code",
      "source": [
        "V_RL"
      ],
      "metadata": {
        "colab": {
          "base_uri": "https://localhost:8080/"
        },
        "id": "yfghD8nRfblh",
        "outputId": "d5a76dbc-ea3f-4a6a-d718-acda2abda678"
      },
      "execution_count": 14,
      "outputs": [
        {
          "output_type": "execute_result",
          "data": {
            "text/plain": [
              "array([[2.85048112, 2.99008934, 2.91400965],\n",
              "       [2.92566189, 3.04882356, 2.8912157 ],\n",
              "       [2.94188193, 3.10096747, 2.88023351]])"
            ]
          },
          "metadata": {},
          "execution_count": 14
        }
      ]
    }
  ]
}